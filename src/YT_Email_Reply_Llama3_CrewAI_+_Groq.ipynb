{
  "cells": [
    {
      "cell_type": "markdown",
      "metadata": {},
      "source": [
        "### Example Test case from Youtube: https://www.youtube.com/watch?v=1D4YoAUpjlg\n",
        "### Colab Link: https://colab.research.google.com/drive/1eT82D9g3bp1-uf4HDv_PPWaK2keZKS4K?usp=sharing\n",
        "\n",
        "Credits: Sam Witteveen"
      ]
    },
    {
      "cell_type": "code",
      "execution_count": 2,
      "metadata": {
        "colab": {
          "base_uri": "https://localhost:8080/"
        },
        "id": "0FDPgaevdeNQ",
        "outputId": "d93b98b1-5d9c-42c8-a726-81004ded4d18"
      },
      "outputs": [],
      "source": [
        "# !pip -q install crewai langchain-groq duckduckgo-search"
      ]
    },
    {
      "cell_type": "code",
      "execution_count": 3,
      "metadata": {
        "colab": {
          "base_uri": "https://localhost:8080/"
        },
        "id": "cEIeTK_9uFvL",
        "outputId": "622e41be-26d7-4a88-8280-752e00ddc8f4"
      },
      "outputs": [],
      "source": [
        "# !pip show crewai"
      ]
    },
    {
      "cell_type": "markdown",
      "metadata": {
        "id": "tYH3vJxvjVve"
      },
      "source": [
        "# The goal\n",
        "\n",
        "Reply to a customer email\n",
        "1. get the email\n",
        "2. categorize this as a \"sales\", \"custom enquiry\", \"off topic\", \"customer complaint\"\n",
        "3. use the category to research info needed for the reply\n",
        "4. take the info and check if there is enough to answer the email\n",
        "5. write a reply\n",
        "6. check the reply\n",
        "7. save the email\n",
        "\n",
        "### Agents\n",
        "- categorizer\n",
        "- researcher (web for now would be internal RAG)\n",
        "- email writer\n",
        "\n",
        "\n",
        "### Tasks\n",
        "- categorize email\n",
        "- research the answer\n",
        "- write the email"
      ]
    },
    {
      "cell_type": "code",
      "execution_count": 4,
      "metadata": {
        "id": "oMAPjXCXcd8a"
      },
      "outputs": [],
      "source": [
        "import os\n",
        "from dotenv import load_dotenv\n",
        "\n",
        "load_dotenv()\n",
        "\n",
        "os.environ[\"GROQ_API_KEY\"] = os.getenv(\"GROQ_API_KEY\")"
      ]
    },
    {
      "cell_type": "markdown",
      "metadata": {
        "id": "b9kHdE8Na8i4"
      },
      "source": [
        "## Utilities"
      ]
    },
    {
      "cell_type": "code",
      "execution_count": 5,
      "metadata": {
        "id": "DvdcABrTa-rR"
      },
      "outputs": [],
      "source": [
        "import json  # Import the JSON module to parse JSON strings\n",
        "from langchain_core.agents import AgentFinish\n",
        "\n",
        "agent_finishes  = []\n",
        "\n",
        "import json\n",
        "from typing import Union, List, Tuple, Dict\n",
        "from langchain.schema import AgentFinish\n",
        "\n",
        "call_number = 0\n",
        "\n",
        "def print_agent_output(agent_output: Union[str, List[Tuple[Dict, str]], AgentFinish], agent_name: str = 'Generic call'):\n",
        "    global call_number  # Declare call_number as a global variable\n",
        "    call_number += 1\n",
        "    with open(\"crew_callback_logs.txt\", \"a\") as log_file:\n",
        "        # Try to parse the output if it is a JSON string\n",
        "        if isinstance(agent_output, str):\n",
        "            try:\n",
        "                agent_output = json.loads(agent_output)  # Attempt to parse the JSON string\n",
        "            except json.JSONDecodeError:\n",
        "                pass  # If there's an error, leave agent_output as is\n",
        "\n",
        "        # Check if the output is a list of tuples as in the first case\n",
        "        if isinstance(agent_output, list) and all(isinstance(item, tuple) for item in agent_output):\n",
        "            print(f\"-{call_number}----Dict------------------------------------------\", file=log_file)\n",
        "            for action, description in agent_output:\n",
        "                # Print attributes based on assumed structure\n",
        "                print(f\"Agent Name: {agent_name}\", file=log_file)\n",
        "                print(f\"Tool used: {getattr(action, 'tool', 'Unknown')}\", file=log_file)\n",
        "                print(f\"Tool input: {getattr(action, 'tool_input', 'Unknown')}\", file=log_file)\n",
        "                print(f\"Action log: {getattr(action, 'log', 'Unknown')}\", file=log_file)\n",
        "                print(f\"Description: {description}\", file=log_file)\n",
        "                print(\"--------------------------------------------------\", file=log_file)\n",
        "\n",
        "        # Check if the output is a dictionary as in the second case\n",
        "        elif isinstance(agent_output, AgentFinish):\n",
        "            print(f\"-{call_number}----AgentFinish---------------------------------------\", file=log_file)\n",
        "            print(f\"Agent Name: {agent_name}\", file=log_file)\n",
        "            agent_finishes.append(agent_output)\n",
        "            # Extracting 'output' and 'log' from the nested 'return_values' if they exist\n",
        "            output = agent_output.return_values\n",
        "            # log = agent_output.get('log', 'No log available')\n",
        "            print(f\"AgentFinish Output: {output['output']}\", file=log_file)\n",
        "            # print(f\"Log: {log}\", file=log_file)\n",
        "            # print(f\"AgentFinish: {agent_output}\", file=log_file)\n",
        "            print(\"--------------------------------------------------\", file=log_file)\n",
        "\n",
        "        # Handle unexpected formats\n",
        "        else:\n",
        "            # If the format is unknown, print out the input directly\n",
        "            print(f\"-{call_number}-Unknown format of agent_output:\", file=log_file)\n",
        "            print(type(agent_output), file=log_file)\n",
        "            print(agent_output, file=log_file)\n"
      ]
    },
    {
      "cell_type": "code",
      "execution_count": 6,
      "metadata": {
        "id": "uzWrf9n6adVo"
      },
      "outputs": [],
      "source": [
        "from langchain_groq import ChatGroq\n",
        "\n",
        "GROQ_LLM = ChatGroq(\n",
        "            api_key=os.getenv(\"GROQ_API_KEY\"),\n",
        "            model=\"llama3-70b-8192\"\n",
        "        )\n"
      ]
    },
    {
      "cell_type": "markdown",
      "metadata": {
        "id": "8G40lprgkCJ2"
      },
      "source": [
        "## Tools"
      ]
    },
    {
      "cell_type": "code",
      "execution_count": 7,
      "metadata": {
        "id": "oYA43C0An6tn"
      },
      "outputs": [],
      "source": [
        "from crewai import Crew, Agent, Task, Process\n",
        "from langchain_community.tools import DuckDuckGoSearchRun"
      ]
    },
    {
      "cell_type": "code",
      "execution_count": 8,
      "metadata": {
        "id": "f3GvksYIkA1m"
      },
      "outputs": [],
      "source": [
        "from datetime import datetime\n",
        "from random import randint\n",
        "from langchain.tools import tool"
      ]
    },
    {
      "cell_type": "code",
      "execution_count": 9,
      "metadata": {
        "id": "vc8SeVoUn5Q6"
      },
      "outputs": [],
      "source": [
        "import json\n",
        "import os\n",
        "\n",
        "import requests\n",
        "from langchain.tools import tool\n",
        "\n",
        "import os\n",
        "from crewai import Agent, Task, Crew, Process\n",
        "from langchain_community.tools import DuckDuckGoSearchRun\n",
        "from langchain.agents import load_tools\n",
        "\n",
        "search_tool = DuckDuckGoSearchRun()\n"
      ]
    },
    {
      "cell_type": "code",
      "execution_count": 10,
      "metadata": {
        "colab": {
          "base_uri": "https://localhost:8080/",
          "height": 174
        },
        "id": "Nvbxjcy8jJ56",
        "outputId": "901554a1-94ee-4ed9-e011-95392cc9a8bb"
      },
      "outputs": [
        {
          "data": {
            "text/plain": [
              "\"The best USB flash drives make it easy to bring your data with you as you can store, transfer and back up your files on physical media. Looking for the best flash drives to store your data in a fast, roomy and pocketable way? Check out our expert reviews and recommendations of the top USB storage devices in 2024. You'll also find ... Striking the perfect balance between speed, reliability, and price, the SanDisk Extreme Pro is tough to beat. It has a sleek and durable aluminum case with a loop for attaching it to a key ring. The USB-C key is best suited for businesses that want to implement physical 2FA procedures without spending a fortune. ... Price point: The cost of your next security key is an important factor to ... Affordable USB-C security key with the features most people will need ... The only real downsides to the YubiKey 5 are its price and that it can be somewhat finicky to use on mobile. The higher price makes sense given the larger number of included features.\""
            ]
          },
          "execution_count": 10,
          "metadata": {},
          "output_type": "execute_result"
        }
      ],
      "source": [
        "search_tool.run(\"usb key price\")"
      ]
    },
    {
      "cell_type": "markdown",
      "metadata": {
        "id": "1FhZyiMakLNL"
      },
      "source": [
        "## Agents"
      ]
    },
    {
      "cell_type": "code",
      "execution_count": 11,
      "metadata": {
        "id": "Hbe-5rH_nHqf"
      },
      "outputs": [],
      "source": [
        "class EmailAgents():\n",
        "    def make_categorizer_agent(self):\n",
        "        return Agent(\n",
        "            role='Email Categorizer Agent',\n",
        "            goal=\"\"\"take in a email from a human that has emailed out company email address and categorize it \\\n",
        "            into one of the following categories: \\\n",
        "            price_equiry - used when someone is asking for information about pricing \\\n",
        "            customer_complaint - used when someone is complaining about something \\\n",
        "            product_enquiry - used when someone is asking for information about a product feature, benefit or service but not about pricing \\\\\n",
        "            customer_feedback - used when someone is giving feedback about a product \\\n",
        "            off_topic when it doesnt relate to any other category \"\"\",\n",
        "            backstory=\"\"\"You are a master at understanding what a customer wants when they write an email and are able to categorize it in a useful way\"\"\",\n",
        "            llm=GROQ_LLM,\n",
        "            verbose=True,\n",
        "            allow_delegation=False,\n",
        "            max_iter=5,\n",
        "            memory=True,\n",
        "            step_callback=lambda x: print_agent_output(x,\"Email Categorizer Agent\"),\n",
        "        )\n",
        "\n",
        "    def make_researcher_agent(self):\n",
        "        return Agent(\n",
        "            role='Info Researcher Agent',\n",
        "            goal=\"\"\"take in a email from a human that has emailed out company email address and the category \\\n",
        "            that the categorizer agent gave it and decide what information you need to search for for the email writer to reply to \\\n",
        "            the email in a thoughtful and helpful way.\n",
        "            If you DONT think a search will help just reply 'NO SEARCH NEEDED'\n",
        "            If you dont find any useful info just reply 'NO USEFUL RESESARCH FOUND'\n",
        "            otherwise reply with the info you found that is useful for the email writer\n",
        "            \"\"\",\n",
        "            backstory=\"\"\"You are a master at understanding what information our email writer needs  to write a reply that \\\n",
        "            will help the customer\"\"\",\n",
        "            llm=GROQ_LLM,\n",
        "            verbose=True,\n",
        "            max_iter=5,\n",
        "            allow_delegation=False,\n",
        "            memory=True,\n",
        "            tools=[search_tool],\n",
        "            step_callback=lambda x: print_agent_output(x,\"Info Researcher Agent\"),\n",
        "        )\n",
        "\n",
        "    def make_email_writer_agent(self):\n",
        "        return Agent(\n",
        "            role='Email Writer Agent',\n",
        "            goal=\"\"\"take in a email from a human that has emailed out company email address, the category \\\n",
        "            that the categorizer agent gave it and the research from the research agent and \\\n",
        "            write a helpful email in a thoughtful and friendly way.\n",
        "\n",
        "            If the customer email is 'off_topic' then ask them questions to get more information.\n",
        "            If the customer email is 'customer_complaint' then try to assure we value them and that we are addressing their issues.\n",
        "            If the customer email is 'customer_feedback' then try to assure we value them and that we are addressing their issues.\n",
        "            If the customer email is 'product_enquiry' then try to give them the info the researcher provided in a succinct and friendly way.\n",
        "            If the customer email is 'price_equiry' then try to give the pricing info they requested.\n",
        "\n",
        "            You never make up information. that hasn't been provided by the researcher or in the email.\n",
        "            Always sign off the emails in appropriate manner and from Sarah the Resident Manager.\n",
        "            \"\"\",\n",
        "            backstory=\"\"\"You are a master at synthesizing a variety of information and writing a helpful email \\\n",
        "            that will address the customer's issues and provide them with helpful information\"\"\",\n",
        "            llm=GROQ_LLM,\n",
        "            verbose=True,\n",
        "            allow_delegation=False,\n",
        "            max_iter=5,\n",
        "            memory=True,\n",
        "            step_callback=lambda x: print_agent_output(x,\"Email Writer Agent\"),\n",
        "        )\n",
        "\n"
      ]
    },
    {
      "cell_type": "markdown",
      "metadata": {
        "id": "0CxGkAovkUVK"
      },
      "source": [
        "## Tasks"
      ]
    },
    {
      "cell_type": "code",
      "execution_count": 12,
      "metadata": {
        "id": "6gYSmym8pdum"
      },
      "outputs": [],
      "source": [
        "class EmailTasks():\n",
        "    # Define your tasks with descriptions and expected outputs\n",
        "    def categorize_email(self, email_content):\n",
        "        return Task(\n",
        "            description=f\"\"\"Conduct a comprehensive analysis of the email provided and categorize into \\\n",
        "            one of the following categories:\n",
        "            price_equiry - used when someone is asking for information about pricing \\\n",
        "            customer_complaint - used when someone is complaining about something \\\n",
        "            product_enquiry - used when someone is asking for information about a product feature, benefit or service but not about pricing \\\\\n",
        "            customer_feedback - used when someone is giving feedback about a product \\\n",
        "            off_topic when it doesnt relate to any other category \\\n",
        "\n",
        "            EMAIL CONTENT:\\n\\n {email_content} \\n\\n\n",
        "            Output a single cetgory only\"\"\",\n",
        "            expected_output=\"\"\"A single categtory for the type of email from the types ('price_equiry', 'customer_complaint', 'product_enquiry', 'customer_feedback', 'off_topic') \\\n",
        "            eg:\n",
        "            'price_enquiry' \\\n",
        "            \"\"\",\n",
        "            output_file=f\"email_category.txt\",\n",
        "            agent=categorizer_agent\n",
        "            )\n",
        "\n",
        "    def research_info_for_email(self, email_content):\n",
        "        return Task(\n",
        "            description=f\"\"\"Conduct a comprehensive analysis of the email provided and the category \\\n",
        "            provided and search the web to find info needed to respond to the email\n",
        "\n",
        "            EMAIL CONTENT:\\n\\n {email_content} \\n\\n\n",
        "            Only provide the info needed DONT try to write the email\"\"\",\n",
        "            expected_output=\"\"\"A set of bullet points of useful info for the email writer \\\n",
        "            or clear instructions that no useful material was found.\"\"\",\n",
        "            context = [categorize_email],\n",
        "            output_file=f\"research_info.txt\",\n",
        "            agent=researcher_agent\n",
        "            )\n",
        "\n",
        "    def draft_email(self, email_content):\n",
        "        return Task(\n",
        "            description=f\"\"\"Conduct a comprehensive analysis of the email provided, the category provided\\\n",
        "            and the info provided from the research specialist to write an email. \\\n",
        "\n",
        "            Write a simple, polite and too the point email which will respond to the customer's email. \\\n",
        "            If useful use the info provided from the research specialist in the email. \\\n",
        "\n",
        "            If no useful info was provided from the research specialist the answer politely but don't make up info. \\\n",
        "\n",
        "            EMAIL CONTENT:\\n\\n {email_content} \\n\\n\n",
        "            Output a single cetgory only\"\"\",\n",
        "            expected_output=\"\"\"A well crafted email for the customer that addresses their issues and concerns\"\"\",\n",
        "            context = [categorize_email, research_info_for_email],\n",
        "            agent=email_writer_agent,\n",
        "            output_file=f\"draft_email.txt\",\n",
        "            )"
      ]
    },
    {
      "cell_type": "markdown",
      "metadata": {
        "id": "m4xowf-0qXzf"
      },
      "source": [
        "## Instantiate Agents and Tasks"
      ]
    },
    {
      "cell_type": "code",
      "execution_count": 13,
      "metadata": {
        "id": "YrQ-4T5NrlTS"
      },
      "outputs": [],
      "source": [
        "# EMAIL = \"\"\"HI there, \\n\n",
        "# I am emailing to find out the current price of Bitcoin. \\n\n",
        "\n",
        "# Can you please help me/\n",
        "\n",
        "# Thanks,\n",
        "# John\n",
        "# \"\"\"\n",
        "\n",
        "EMAIL = \"\"\"HI there, \\n\n",
        "I am emailing to say that I had a wonderful stay at your resort last week. \\n\n",
        "\n",
        "I really appreaciate what your staff did\n",
        "\n",
        "Thanks,\n",
        "Paul\n",
        "\"\"\"\n",
        "\n",
        "EMAIL = \"\"\"HI there, \\n\n",
        "I am emailing to say that the resort weather was way to cloudy and overcast. \\n\n",
        "I wanted to write a song called 'Here comes the sun but it never came'\n",
        "\n",
        "What should be the weather in Arizona in April?\n",
        "\n",
        "I really hope you fix this next time.\n",
        "\n",
        "Thanks,\n",
        "George\n",
        "\"\"\"\n",
        "\n",
        "EMAIL = \"\"\"HI there, \\n\n",
        "Why can't I get to sing?\n",
        "\n",
        "Thanks,\n",
        "Ringo\n",
        "\"\"\""
      ]
    },
    {
      "cell_type": "code",
      "execution_count": 14,
      "metadata": {
        "id": "AQdhwjIrqebG"
      },
      "outputs": [],
      "source": [
        "##\n",
        "agents = EmailAgents()\n",
        "tasks = EmailTasks()\n",
        "\n",
        "## Agents\n",
        "categorizer_agent = agents.make_categorizer_agent()\n",
        "researcher_agent = agents.make_researcher_agent()\n",
        "email_writer_agent = agents.make_email_writer_agent()\n",
        "\n",
        "## Tasks\n",
        "categorize_email = tasks.categorize_email(EMAIL)\n",
        "research_info_for_email = tasks.research_info_for_email(EMAIL)\n",
        "draft_email = tasks.draft_email(EMAIL)\n"
      ]
    },
    {
      "cell_type": "markdown",
      "metadata": {
        "id": "Xma0GE-Kk9Ef"
      },
      "source": [
        "## Crew"
      ]
    },
    {
      "cell_type": "code",
      "execution_count": 15,
      "metadata": {
        "colab": {
          "base_uri": "https://localhost:8080/"
        },
        "id": "e3SXzkhhn49N",
        "outputId": "10747d84-abd6-487f-8ff7-ae6fb685165d"
      },
      "outputs": [],
      "source": [
        "from crewai import Crew, Process\n",
        "\n",
        "# Instantiate your crew with a sequential process\n",
        "crew = Crew(\n",
        "    agents=[categorizer_agent, researcher_agent, email_writer_agent],\n",
        "    tasks=[categorize_email, research_info_for_email, draft_email],\n",
        "    verbose=2,\n",
        "    process=Process.sequential,\n",
        "    full_output=True,\n",
        "    share_crew=False,\n",
        "    step_callback=lambda x: print_agent_output(x,\"MasterCrew Agent\")\n",
        ")"
      ]
    },
    {
      "cell_type": "code",
      "execution_count": 16,
      "metadata": {
        "colab": {
          "base_uri": "https://localhost:8080/"
        },
        "id": "HexYqBNBdQ5B",
        "outputId": "894f2339-9b78-48ab-ce74-e6f151d8aebc"
      },
      "outputs": [
        {
          "name": "stdout",
          "output_type": "stream",
          "text": [
            "\u001b[1m\u001b[95m [2024-06-18 14:54:54][DEBUG]: == Working Agent: Email Categorizer Agent\u001b[00m\n",
            "\u001b[1m\u001b[95m [2024-06-18 14:54:54][INFO]: == Starting Task: Conduct a comprehensive analysis of the email provided and categorize into             one of the following categories:\n",
            "            price_equiry - used when someone is asking for information about pricing             customer_complaint - used when someone is complaining about something             product_enquiry - used when someone is asking for information about a product feature, benefit or service but not about pricing \\\n",
            "            customer_feedback - used when someone is giving feedback about a product             off_topic when it doesnt relate to any other category \n",
            "            EMAIL CONTENT:\n",
            "\n",
            " HI there, \n",
            "\n",
            "Why can't I get to sing?\n",
            "\n",
            "Thanks,\n",
            "Ringo\n",
            " \n",
            "\n",
            "\n",
            "            Output a single cetgory only\u001b[00m\n",
            "\n",
            "\n",
            "\u001b[1m> Entering new CrewAgentExecutor chain...\u001b[0m\n",
            "\u001b[32;1m\u001b[1;3mI've carefully analyzed the email content, and I'm confident in my categorization.\n",
            "\n",
            "Thought: I now can give a great answer\n",
            "\n",
            "Final Answer: off_topic\u001b[0m\n",
            "\n",
            "\u001b[1m> Finished chain.\u001b[0m\n",
            "Critic Response:\n",
            " Error: The output is accurate in that the email does not contain information about pricing (price_enquiry), product features or services (product_enquiry), customer complaints (customer_complaint), or feedback about a product (customer_feedback). However, it's unlikely that Ringo Starr (the famous drummer from The Beatles) is trying to get help with a technical issue or a feature of a product. Therefore, the category \"off_topic\" might be too broad.\n",
            "\n",
            "A more specific category could be: artist_enquiry - used when someone is seeking information about an artist, band, or music-related topic.\n",
            "Validate Response:\n",
            " True\n",
            "\u001b[1m\u001b[92m [2024-06-18 14:55:08][DEBUG]: == [Email Categorizer Agent] Task output: artist_enquiry\n",
            "\n",
            "\u001b[00m\n",
            "\u001b[1m\u001b[95m [2024-06-18 14:55:08][DEBUG]: == Working Agent: Info Researcher Agent\u001b[00m\n",
            "\u001b[1m\u001b[95m [2024-06-18 14:55:08][INFO]: == Starting Task: Conduct a comprehensive analysis of the email provided and the category             provided and search the web to find info needed to respond to the email\n",
            "\n",
            "            EMAIL CONTENT:\n",
            "\n",
            " HI there, \n",
            "\n",
            "Why can't I get to sing?\n",
            "\n",
            "Thanks,\n",
            "Ringo\n",
            " \n",
            "\n",
            "\n",
            "            Only provide the info needed DONT try to write the email\u001b[00m\n",
            "\n",
            "\n",
            "\u001b[1m> Entering new CrewAgentExecutor chain...\u001b[0m\n",
            "\u001b[32;1m\u001b[1;3mThought: I need to understand the context of the email and the category \"artist_enquiry\" to determine what information is required to respond to the email.\n",
            "\n",
            "Action: duckduckgo_search\n",
            "Action Input: {\"q\": \"Ringo singer\"}\u001b[0m\u001b[91m \n",
            "\n",
            "I encountered an error while trying to use the tool. This was the error: DuckDuckGoSearchRun._run() got an unexpected keyword argument 'q'.\n",
            " Tool duckduckgo_search accepts these inputs: A wrapper around DuckDuckGo Search. Useful for when you need to answer questions about current events. Input should be a search query.\n",
            "\u001b[00m\n",
            "\u001b[32;1m\u001b[1;3mThought: I need to understand the context of the email and the category \"artist_enquiry\" to determine what information is required to respond to the email.\n",
            "\n",
            "Action: duckduckgo_search\n",
            "Action Input: {\"query\": \"Ringo singer\"}\u001b[0m\u001b[95m \n",
            "\n",
            "Ringo Starr (born July 7, 1940, Liverpool, Merseyside, England) is a British musician, singer, songwriter, and actor who was the drummer for the Beatles, one of the most influential bands in rock history. He also found success in a solo career. Starkey was born in a working-class area of Liverpool.His parents, both bakery workers, divorced when he was a small child. Ringo Starr first married Maureen Cox in 1965. Beatles manager Brian Epstein was best man and George Harrison was a witness. The couple had three children: sons Zak (born 1965), and Jason (born 1967) and daughter Lee (born 1970). Why Ringo Starr banned fans from writing to him. The couple divorced in 1975 due to Starr's repeated infidelities. Ringo Starr - It Don't Come Easy (Official Video) [HD] 'It Don't Come Easy' was Ringo's first bonafide hit as a solo artist, and is undoubtedly his most snappy solo entry. The 1971 single was the first original song of Ringo's to be credited to him alone, although George Harrison's fingerprints are all over the track, incorporating the kind of ... Ringo Starr, former Beatles drummer, now 83 years old, has a new recording out this month and is on tour. Jeffrey Brown joined him in Los Angeles for our arts and culture series, Canvas. Jeffrey ... Ringo Starr was born on July 7, 1940 at 9 Madryn Street in Dingle in Liverpool. He celebrated his 82nd birthday in 2022. He was the only child of confectioners Richard Starkey and Elsie Gleave. The family moved to Admiral Grove, still in Dingle, when Ringo was just four.\n",
            "\u001b[00m\n",
            "\u001b[32;1m\u001b[1;3mThought: I have identified the email content and category, and I understand that the email is an inquiry from Ringo, possibly related to his singing or music career.\n",
            "\n",
            "Action: duckduckgo_search\n",
            "Action Input: {\"query\": \"Ringo Starr singing\"}\u001b[0m\u001b[95m \n",
            "\n",
            "Official video for \"Crooked Boy\" performed by Ringo Starr. Listen to \"Crooked Boy\" and three other brand-new tracks on Ringo's new 'Crooked Boy' EP, now avai... Ringo Starr performing with his All-Star Band in 2018. Ringo Starr is an English musician who has recorded hundreds of songs throughout his long career. As the drummer for the Beatles, Starr occasionally performed lead vocals, usually for one song an album. He wrote two songs for the group, \"Don't Pass Me By\" and \"Octopus's Garden\", and was credited as co-writer of others, including \"What Goes ... Official Lyric Video for Feeling The Sunlight performed by Ringo Starr.Listen to EP3 and get your copy now! https://Ringo.lnk.to/EP3ID Subscribe and ring the... Ringo Starr in 2013. CC BY SA 2.0. Credit: Eva Rinaldi When one goes through the annals of rock and roll history in search of a life well led, it would be hard to find a better example than Ringo Starr. Like all the Beatles, the erstwhile Richard Starkey was born to a working class family in Liverpool. Unlike John Lennon and Paul McCartney — both of whom lost their mothers early in life ... Ringo Starr sang 12 songs for the Beatles that were officially released. This number comes from the songs Ringo was either the lead singer or co-lead singer on. Of course, Ringo Starr provided backing vocals for far more Beatles songs than this amount, especially when taking into account live performances.\n",
            "\u001b[00m\n",
            "\u001b[32;1m\u001b[1;3mThought: I now know the final answer\n",
            "\n",
            "Final Answer: \n",
            "\n",
            "* Ringo Starr is a British musician, singer, songwriter, and actor who was the drummer for the Beatles.\n",
            "* He has had a successful solo career and has released many songs and albums.\n",
            "* Ringo Starr has sang 12 songs for the Beatles that were officially released.\n",
            "* He has also released solo songs and EPs, including \"Crooked Boy\" and \"Feeling The Sunlight\".\n",
            "* Ringo Starr has been on tour and has released new recordings, including an EP in 2022.\n",
            "* He was born on July 7, 1940, and celebrated his 82nd birthday in 2022.\u001b[0m\n",
            "\n",
            "\u001b[1m> Finished chain.\u001b[0m\n",
            "Critic Response:\n",
            " Errors:\n",
            "\n",
            "* The output does not address the original question \"Why can't I get to sing?\" asked by Ringo Starr. It seems to be providing general information about Ringo Starr's career instead of responding to the inquiry.\n",
            "* There is no logical connection between Ringo Starr being a musician and his ability or inability to get to sing. The output does not provide any insight into why Ringo Starr might not be able to sing, which was the original question.\n",
            "Validate Response:\n",
            " True\n",
            "\u001b[1m\u001b[92m [2024-06-18 14:55:29][DEBUG]: == [Info Researcher Agent] Task output: Ringo Starr has sang 12 songs for the Beatles that were officially released.\n",
            "\n",
            "\u001b[00m\n",
            "\u001b[1m\u001b[95m [2024-06-18 14:55:29][DEBUG]: == Working Agent: Email Writer Agent\u001b[00m\n",
            "\u001b[1m\u001b[95m [2024-06-18 14:55:29][INFO]: == Starting Task: Conduct a comprehensive analysis of the email provided, the category provided            and the info provided from the research specialist to write an email. \n",
            "            Write a simple, polite and too the point email which will respond to the customer's email.             If useful use the info provided from the research specialist in the email. \n",
            "            If no useful info was provided from the research specialist the answer politely but don't make up info. \n",
            "            EMAIL CONTENT:\n",
            "\n",
            " HI there, \n",
            "\n",
            "Why can't I get to sing?\n",
            "\n",
            "Thanks,\n",
            "Ringo\n",
            " \n",
            "\n",
            "\n",
            "            Output a single cetgory only\u001b[00m\n",
            "\n",
            "\n",
            "\u001b[1m> Entering new CrewAgentExecutor chain...\u001b[0m\n",
            "\u001b[32;1m\u001b[1;3mI now can give a great answer!\n",
            "\n",
            "Final Answer:\n",
            "\n",
            "Dear Ringo,\n",
            "\n",
            "Thank you for reaching out to us! I'm happy to help you with your question. \n",
            "\n",
            "I understand that you're wondering why you can't get to sing. I'd love to help you explore this further. Could you please provide more context or information about what you mean by \"get to sing\"? Are you looking to sing with a group, or is there something specific holding you back from singing? The more details you can provide, the better I'll be able to assist you.\n",
            "\n",
            "By the way, did you know that you've had an incredible impact on music history with the 12 songs you sang for the Beatles that were officially released? We're big fans of your work!\n",
            "\n",
            "Looking forward to hearing back from you and seeing how I can help.\n",
            "\n",
            "Best regards,\n",
            "Sarah the Resident Manager\u001b[0m\n",
            "\n",
            "\u001b[1m> Finished chain.\u001b[0m\n",
            "Critic Response:\n",
            " The output appears to be a comprehensive analysis, addressing the customer's issue and providing helpful information. However, there are a few errors that require attention:\n",
            "\n",
            "1. The category provided was not used in the email. It would have been helpful to mention it in the email.\n",
            "2. There is no connection between Ringo Starr's music history and his inability to sing (which he mentioned in the original email). This section seems out of place and could be removed without affecting the overall message of the email.\n",
            "\n",
            "The rest of the email appears logical, polite, and to-the-point, effectively responding to the customer's issue while inviting him to provide more context for further assistance.\n",
            "Validate Response:\n",
            " True\n",
            "\u001b[1m\u001b[92m [2024-06-18 14:55:54][DEBUG]: == [Email Writer Agent] Task output: Dear Ringo,\n",
            "\n",
            "I'm happy to help you with your question. According to our category \"Music\", I understand that you're wondering why you can't get to sing.\n",
            "\n",
            "Could you please provide more context or information about what you mean by \"get to sing\"? Are you looking to sing with a group, or is there something specific holding you back from singing? The more details you can provide, the better I'll be able to assist you.\n",
            "\n",
            "I look forward to hearing back from you and seeing how I can help.\n",
            "\n",
            "Best regards,\n",
            "Sarah the Resident Manager\n",
            "\n",
            "\u001b[00m\n",
            "Crew Work Results:\n",
            "{'final_output': 'Dear Ringo,\\n\\nI\\'m happy to help you with your question. According to our category \"Music\", I understand that you\\'re wondering why you can\\'t get to sing.\\n\\nCould you please provide more context or information about what you mean by \"get to sing\"? Are you looking to sing with a group, or is there something specific holding you back from singing? The more details you can provide, the better I\\'ll be able to assist you.\\n\\nI look forward to hearing back from you and seeing how I can help.\\n\\nBest regards,\\nSarah the Resident Manager', 'tasks_outputs': [TaskOutput(description=\"Conduct a comprehensive analysis of the email provided and categorize into             one of the following categories:\\n            price_equiry - used when someone is asking for information about pricing             customer_complaint - used when someone is complaining about something             product_enquiry - used when someone is asking for information about a product feature, benefit or service but not about pricing \\\\\\n            customer_feedback - used when someone is giving feedback about a product             off_topic when it doesnt relate to any other category \\n            EMAIL CONTENT:\\n\\n HI there, \\n\\nWhy can't I get to sing?\\n\\nThanks,\\nRingo\\n \\n\\n\\n            Output a single cetgory only\", summary='Conduct a comprehensive analysis of the email provided and categorize...', exported_output='artist_enquiry', agent='Email Categorizer Agent', raw_output='artist_enquiry'), TaskOutput(description=\"Conduct a comprehensive analysis of the email provided and the category             provided and search the web to find info needed to respond to the email\\n\\n            EMAIL CONTENT:\\n\\n HI there, \\n\\nWhy can't I get to sing?\\n\\nThanks,\\nRingo\\n \\n\\n\\n            Only provide the info needed DONT try to write the email\", summary='Conduct a comprehensive analysis of the email provided and the...', exported_output='Ringo Starr has sang 12 songs for the Beatles that were officially released.', agent='Info Researcher Agent', raw_output='Ringo Starr has sang 12 songs for the Beatles that were officially released.'), TaskOutput(description=\"Conduct a comprehensive analysis of the email provided, the category provided            and the info provided from the research specialist to write an email. \\n            Write a simple, polite and too the point email which will respond to the customer's email.             If useful use the info provided from the research specialist in the email. \\n            If no useful info was provided from the research specialist the answer politely but don't make up info. \\n            EMAIL CONTENT:\\n\\n HI there, \\n\\nWhy can't I get to sing?\\n\\nThanks,\\nRingo\\n \\n\\n\\n            Output a single cetgory only\", summary='Conduct a comprehensive analysis of the email provided, the category...', exported_output='Dear Ringo,\\n\\nI\\'m happy to help you with your question. According to our category \"Music\", I understand that you\\'re wondering why you can\\'t get to sing.\\n\\nCould you please provide more context or information about what you mean by \"get to sing\"? Are you looking to sing with a group, or is there something specific holding you back from singing? The more details you can provide, the better I\\'ll be able to assist you.\\n\\nI look forward to hearing back from you and seeing how I can help.\\n\\nBest regards,\\nSarah the Resident Manager', agent='Email Writer Agent', raw_output='Dear Ringo,\\n\\nI\\'m happy to help you with your question. According to our category \"Music\", I understand that you\\'re wondering why you can\\'t get to sing.\\n\\nCould you please provide more context or information about what you mean by \"get to sing\"? Are you looking to sing with a group, or is there something specific holding you back from singing? The more details you can provide, the better I\\'ll be able to assist you.\\n\\nI look forward to hearing back from you and seeing how I can help.\\n\\nBest regards,\\nSarah the Resident Manager')], 'usage_metrics': {'total_tokens': 0, 'prompt_tokens': 0, 'completion_tokens': 0, 'successful_requests': 0}}\n",
            "{'total_tokens': 5408, 'prompt_tokens': 4899, 'completion_tokens': 509, 'successful_requests': 6}\n"
          ]
        }
      ],
      "source": [
        "# Kick off the crew's work\n",
        "results = crew.kickoff()\n",
        "\n",
        "\n",
        "# Print the results\n",
        "print(\"Crew Work Results:\")\n",
        "print(results)\n",
        "\n",
        "# print(f\"Categorize Email: {categorize_email.output}\")\n",
        "print(crew.usage_metrics)"
      ]
    },
    {
      "cell_type": "code",
      "execution_count": 17,
      "metadata": {
        "colab": {
          "base_uri": "https://localhost:8080/"
        },
        "id": "cP7KiMdkbIAh",
        "outputId": "503aa595-a619-46ae-e7b4-48e466f7cb6d"
      },
      "outputs": [
        {
          "name": "stdout",
          "output_type": "stream",
          "text": [
            "cat: /content/draft_email.txt: No such file or directory\n"
          ]
        }
      ],
      "source": [
        "!cat /content/draft_email.txt"
      ]
    },
    {
      "cell_type": "code",
      "execution_count": 18,
      "metadata": {
        "colab": {
          "base_uri": "https://localhost:8080/"
        },
        "id": "uNbw6y96bICK",
        "outputId": "cd738712-549b-436b-a1b6-2394759d24fd"
      },
      "outputs": [
        {
          "name": "stdout",
          "output_type": "stream",
          "text": [
            "cat: /content/email_category.txt: No such file or directory\n"
          ]
        }
      ],
      "source": [
        "!cat /content/email_category.txt"
      ]
    },
    {
      "cell_type": "code",
      "execution_count": 19,
      "metadata": {
        "colab": {
          "base_uri": "https://localhost:8080/"
        },
        "id": "MNx8mRoGbIES",
        "outputId": "66cb0ea6-2827-4376-bd3f-67e7b4b8d85c"
      },
      "outputs": [
        {
          "name": "stdout",
          "output_type": "stream",
          "text": [
            "cat: /content/research_info.txt: No such file or directory\n"
          ]
        }
      ],
      "source": [
        "!cat /content/research_info.txt"
      ]
    },
    {
      "cell_type": "code",
      "execution_count": null,
      "metadata": {
        "id": "FWAlIQp9bIGC"
      },
      "outputs": [],
      "source": []
    },
    {
      "cell_type": "code",
      "execution_count": null,
      "metadata": {
        "id": "DQMiUwjSbIIk"
      },
      "outputs": [],
      "source": []
    },
    {
      "cell_type": "code",
      "execution_count": null,
      "metadata": {
        "id": "1452sfq-bIMu"
      },
      "outputs": [],
      "source": []
    }
  ],
  "metadata": {
    "colab": {
      "provenance": []
    },
    "kernelspec": {
      "display_name": "Python 3",
      "name": "python3"
    },
    "language_info": {
      "codemirror_mode": {
        "name": "ipython",
        "version": 3
      },
      "file_extension": ".py",
      "mimetype": "text/x-python",
      "name": "python",
      "nbconvert_exporter": "python",
      "pygments_lexer": "ipython3",
      "version": "3.12.3"
    }
  },
  "nbformat": 4,
  "nbformat_minor": 0
}
