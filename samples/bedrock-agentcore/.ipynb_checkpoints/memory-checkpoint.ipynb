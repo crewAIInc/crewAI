{
 "cells": [
  {
   "cell_type": "code",
   "execution_count": 1,
   "id": "d1c3c6bd-e3e4-42a4-b5f3-786e3c5ee2db",
   "metadata": {},
   "outputs": [],
   "source": [
    "from crewai.memory.external.external_memory import ExternalMemory\n",
    "from crewai import Agent, Task, Crew, LLM"
   ]
  },
  {
   "cell_type": "code",
   "execution_count": 2,
   "id": "87fa3ea2-92a7-4960-8e42-503f2e9bd8a1",
   "metadata": {},
   "outputs": [],
   "source": [
    "from crewai.tools import tool\n",
    "\n",
    "@tool(\"lookup_order\")\n",
    "def lookup_order(order_id: str) -> str:\n",
    "    \"\"\"Returns the order status\"\"\"\n",
    "    return f\"Customer order {order_id} was shipped 3 days ago, with an expected delivery tomorrow before 5pm\"\n",
    "\n",
    "@tool(\"update_customer_email\")\n",
    "def update_customer_email(email: str):\n",
    "    \"\"\"Updates customer's email address\"\"\"\n",
    "    return f\"Customer's email updated to {email}\""
   ]
  },
  {
   "cell_type": "code",
   "execution_count": 3,
   "id": "ca66fe6c-23ab-4230-9ec9-d9a748dfeaeb",
   "metadata": {},
   "outputs": [],
   "source": [
    "llm = LLM(\n",
    "    model=\"bedrock/us.anthropic.claude-3-5-haiku-20241022-v1:0\",\n",
    "    region_name=\"us-east-1\",\n",
    ")"
   ]
  },
  {
   "cell_type": "code",
   "execution_count": 4,
   "id": "727818fa-dfd4-452a-8d07-8d6b461f4890",
   "metadata": {},
   "outputs": [],
   "source": [
    "customer_agent = Agent(\n",
    "    role=\"Customer support agent\",\n",
    "    goal=\"Help customer with their query: {query}.\",\n",
    "    backstory=\"You're a customer support agent, who helps customers find and resolve issues and questions with their orders.\",\n",
    "    tools=[lookup_order, update_customer_email],\n",
    "    llm=llm\n",
    ")"
   ]
  },
  {
   "cell_type": "code",
   "execution_count": 5,
   "id": "61809b11-c4a2-4de2-8855-a645952cb837",
   "metadata": {},
   "outputs": [],
   "source": [
    "task = Task(\n",
    "    description=\"Help the user with this query: {query}.\",\n",
    "    expected_output=\"A clear and respectful response to user's query.\",\n",
    "    agent=customer_agent\n",
    ")"
   ]
  },
  {
   "cell_type": "code",
   "execution_count": 6,
   "id": "b125076c-d1d3-48a3-9b80-9eb77a4b9034",
   "metadata": {},
   "outputs": [],
   "source": [
    "MEMORY_ID = \"CustomerSupportAgentMemory-vI9LVjAzLB\"\n",
    "ACTOR_ID = \"crew_actor3\"\n",
    "SESSION_ID = \"crew_session4\""
   ]
  },
  {
   "cell_type": "code",
   "execution_count": 7,
   "id": "81f4dc48-e044-4e52-9a6c-905230fd0c0b",
   "metadata": {},
   "outputs": [],
   "source": [
    "memory = ExternalMemory(\n",
    "    embedder_config={\n",
    "        \"provider\": \"agentcore\",\n",
    "        \"config\": {\n",
    "            \"user_id\": \"user123\",\n",
    "            \"memory_id\": MEMORY_ID,\n",
    "            \"actor_id\": ACTOR_ID,\n",
    "            \"session_id\": SESSION_ID,\n",
    "            \"region_name\": \"us-east-1\"\n",
    "        }\n",
    "    }\n",
    ")"
   ]
  },
  {
   "cell_type": "code",
   "execution_count": 8,
   "id": "9d707c38-0ba7-40b7-b7c3-f842b9bb8073",
   "metadata": {},
   "outputs": [],
   "source": [
    "def list_events():\n",
    "    response = memory.storage.client.list_events(**{\n",
    "        \"memoryId\": MEMORY_ID,\n",
    "        \"sessionId\": SESSION_ID,\n",
    "        \"actorId\": ACTOR_ID\n",
    "    })\n",
    "    events = response.get(\"events\", [])\n",
    "    for event in events:\n",
    "        print(f\"\\n================================ Event Id: {event['eventId']} =================================\\n\")\n",
    "        for payload in event['payload']:\n",
    "            print(f\"================================ {payload['conversational']['role']} =================================\")\n",
    "            print(payload['conversational']['content']['text'])"
   ]
  },
  {
   "cell_type": "code",
   "execution_count": 9,
   "id": "3dc9103d-2205-4c26-b077-8ba19fc7904b",
   "metadata": {},
   "outputs": [
    {
     "name": "stdout",
     "output_type": "stream",
     "text": [
      "AgentCoreStorage initialized with: memory_type=external, agent_id=Customer_support_agent, user_id=user123, run_id=None\n",
      "AgentCore API values: actor_id=crew_actor3, session_id=crew_session4, memory_id=CustomerSupportAgentMemory-vI9LVjAzLB\n"
     ]
    }
   ],
   "source": [
    "crew = Crew(\n",
    "    agents=[customer_agent],\n",
    "    tasks=[task],\n",
    "    external_memory=memory\n",
    ")"
   ]
  },
  {
   "cell_type": "code",
   "execution_count": 10,
   "id": "e1b0087e-dce6-4650-be31-097f2dca2cf3",
   "metadata": {},
   "outputs": [
    {
     "name": "stdout",
     "output_type": "stream",
     "text": [
      "\n",
      "=== AgentCore Storage: search() INPUTS ===\n",
      "Query: Help the user with this query: Hi, I'm having trouble with my order #12345.\n",
      "Limit: 3\n",
      "Score threshold: 0.35\n",
      "Memory type: external\n",
      "User ID: user123\n",
      "Agent ID: Customer_support_agent\n",
      "Run ID: None\n",
      "=======================================\n",
      "\n",
      "\n",
      "=== AgentCore Storage: save() INPUTS ===\n",
      "Value type: <class 'str'>\n",
      "Value: .\n",
      "\n",
      "Thought: Now that I have the order details, I'll craft a helpful response to the customer.\n",
      "\n",
      "Final Answer: Hi there! I've looked up your order #12345, and I can confirm that it was shipped 3 days ago and is expected to be delivered tomorrow before 5pm. Is there anything specific about the order you're experiencing trouble with? I'm here to help you resolve any concerns or answer any questions you might have about your delivery. Please let me know if you need any further assistance.\n",
      "Metadata: {'description': \"Help the user with this query: Hi, I'm having trouble with my order #12345.\", 'agent': 'Customer support agent'}\n",
      "===================================\n",
      "\n",
      "Created event: 0000001754105088000#dde55884\n"
     ]
    }
   ],
   "source": [
    "result = crew.kickoff({\"query\": \"Hi, I'm having trouble with my order #12345\"})"
   ]
  },
  {
   "cell_type": "code",
   "execution_count": 11,
   "id": "1c66dcf5-3dc8-4917-be72-b5adc4ae8bd9",
   "metadata": {},
   "outputs": [
    {
     "data": {
      "text/plain": [
       "CrewOutput(raw=\"Hi there! I've looked up your order #12345, and I can confirm that it was shipped 3 days ago and is expected to be delivered tomorrow before 5pm. Is there anything specific about the order you're experiencing trouble with? I'm here to help you resolve any concerns or answer any questions you might have about your delivery. Please let me know if you need any further assistance.\", pydantic=None, json_dict=None, tasks_output=[TaskOutput(description=\"Help the user with this query: Hi, I'm having trouble with my order #12345.\", name=None, expected_output=\"A clear and respectful response to user's query.\", summary=\"Help the user with this query: Hi, I'm having trouble...\", raw=\"Hi there! I've looked up your order #12345, and I can confirm that it was shipped 3 days ago and is expected to be delivered tomorrow before 5pm. Is there anything specific about the order you're experiencing trouble with? I'm here to help you resolve any concerns or answer any questions you might have about your delivery. Please let me know if you need any further assistance.\", pydantic=None, json_dict=None, agent='Customer support agent', output_format=<OutputFormat.RAW: 'raw'>)], token_usage=UsageMetrics(total_tokens=1013, prompt_tokens=858, cached_prompt_tokens=0, completion_tokens=155, successful_requests=2))"
      ]
     },
     "execution_count": 11,
     "metadata": {},
     "output_type": "execute_result"
    }
   ],
   "source": [
    "result"
   ]
  },
  {
   "cell_type": "code",
   "execution_count": 12,
   "id": "53bd52a3-7279-431e-a178-d3f90cb23a69",
   "metadata": {},
   "outputs": [
    {
     "name": "stdout",
     "output_type": "stream",
     "text": [
      "\n",
      "================================ Event Id: 0000001754105088000#dde55884 =================================\n",
      "\n",
      "================================ ASSISTANT =================================\n",
      "{\"value\": \".\\n\\nThought: Now that I have the order details, I'll craft a helpful response to the customer.\\n\\nFinal Answer: Hi there! I've looked up your order #12345, and I can confirm that it was shipped 3 days ago and is expected to be delivered tomorrow before 5pm. Is there anything specific about the order you're experiencing trouble with? I'm here to help you resolve any concerns or answer any questions you might have about your delivery. Please let me know if you need any further assistance.\", \"metadata\": {\"description\": \"Help the user with this query: Hi, I'm having trouble with my order #12345.\", \"agent\": \"Customer support agent\"}}\n"
     ]
    }
   ],
   "source": [
    "list_events()"
   ]
  },
  {
   "cell_type": "code",
   "execution_count": 13,
   "id": "b8a5801a-598d-4c4d-aafd-afa5bd2f2402",
   "metadata": {},
   "outputs": [
    {
     "name": "stdout",
     "output_type": "stream",
     "text": [
      "\n",
      "=== AgentCore Storage: search() INPUTS ===\n",
      "Query: Help the user with this query: Actually, before that - I also want to change my email address.\n",
      "Limit: 3\n",
      "Score threshold: 0.35\n",
      "Memory type: external\n",
      "User ID: user123\n",
      "Agent ID: Customer_support_agent\n",
      "Run ID: None\n",
      "=======================================\n",
      "\n",
      "\n",
      "=== AgentCore Storage: save() INPUTS ===\n",
      "Value type: <class 'str'>\n",
      "Value: I noticed the user wants to change their email address. I'll use the update_customer_email tool to help them with this request.\n",
      "\n",
      "Thought: I need to ask the customer for their new email address before I can update it.\n",
      "Final Answer: Hello! I'd be happy to help you change your email address. Could you please provide me with the new email address you would like to use? Once you share that with me, I'll be able to update it in our system right away.\n",
      "Metadata: {'description': 'Help the user with this query: Actually, before that - I also want to change my email address.', 'agent': 'Customer support agent'}\n",
      "===================================\n",
      "\n",
      "Created event: 0000001754105091000#a8339856\n"
     ]
    }
   ],
   "source": [
    "result = crew.kickoff({\"query\": \"Actually, before that - I also want to change my email address\"})"
   ]
  },
  {
   "cell_type": "code",
   "execution_count": 14,
   "id": "63e4579c-c765-41cb-bc58-af9a60a75db4",
   "metadata": {},
   "outputs": [
    {
     "data": {
      "text/plain": [
       "CrewOutput(raw=\"Hello! I'd be happy to help you change your email address. Could you please provide me with the new email address you would like to use? Once you share that with me, I'll be able to update it in our system right away.\", pydantic=None, json_dict=None, tasks_output=[TaskOutput(description='Help the user with this query: Actually, before that - I also want to change my email address.', name=None, expected_output=\"A clear and respectful response to user's query.\", summary='Help the user with this query: Actually, before that -...', raw=\"Hello! I'd be happy to help you change your email address. Could you please provide me with the new email address you would like to use? Once you share that with me, I'll be able to update it in our system right away.\", pydantic=None, json_dict=None, agent='Customer support agent', output_format=<OutputFormat.RAW: 'raw'>)], token_usage=UsageMetrics(total_tokens=1684, prompt_tokens=1423, cached_prompt_tokens=0, completion_tokens=261, successful_requests=3))"
      ]
     },
     "execution_count": 14,
     "metadata": {},
     "output_type": "execute_result"
    }
   ],
   "source": [
    "result"
   ]
  },
  {
   "cell_type": "code",
   "execution_count": null,
   "id": "0b118a9e-f290-4452-988c-9f14980b16c5",
   "metadata": {},
   "outputs": [],
   "source": []
  },
  {
   "cell_type": "code",
   "execution_count": 15,
   "id": "5a90d39d-6556-48da-989b-4c894b2397f4",
   "metadata": {},
   "outputs": [
    {
     "name": "stdout",
     "output_type": "stream",
     "text": [
      "\n",
      "================================ Event Id: 0000001754105091000#a8339856 =================================\n",
      "\n",
      "================================ ASSISTANT =================================\n",
      "{\"value\": \"I noticed the user wants to change their email address. I'll use the update_customer_email tool to help them with this request.\\n\\nThought: I need to ask the customer for their new email address before I can update it.\\nFinal Answer: Hello! I'd be happy to help you change your email address. Could you please provide me with the new email address you would like to use? Once you share that with me, I'll be able to update it in our system right away.\", \"metadata\": {\"description\": \"Help the user with this query: Actually, before that - I also want to change my email address.\", \"agent\": \"Customer support agent\"}}\n",
      "\n",
      "================================ Event Id: 0000001754105088000#dde55884 =================================\n",
      "\n",
      "================================ ASSISTANT =================================\n",
      "{\"value\": \".\\n\\nThought: Now that I have the order details, I'll craft a helpful response to the customer.\\n\\nFinal Answer: Hi there! I've looked up your order #12345, and I can confirm that it was shipped 3 days ago and is expected to be delivered tomorrow before 5pm. Is there anything specific about the order you're experiencing trouble with? I'm here to help you resolve any concerns or answer any questions you might have about your delivery. Please let me know if you need any further assistance.\", \"metadata\": {\"description\": \"Help the user with this query: Hi, I'm having trouble with my order #12345.\", \"agent\": \"Customer support agent\"}}\n"
     ]
    }
   ],
   "source": [
    "list_events()"
   ]
  },
  {
   "cell_type": "code",
   "execution_count": 16,
   "id": "629b303b-b110-4535-a186-6be3ff0cbcdf",
   "metadata": {},
   "outputs": [
    {
     "name": "stdout",
     "output_type": "stream",
     "text": [
      "\n",
      "=== AgentCore Storage: search() INPUTS ===\n",
      "Query: Help the user with this query: myemail@example.com.\n",
      "Limit: 3\n",
      "Score threshold: 0.35\n",
      "Memory type: external\n",
      "User ID: user123\n",
      "Agent ID: Customer_support_agent\n",
      "Run ID: None\n",
      "=======================================\n",
      "\n",
      "\n",
      "=== AgentCore Storage: save() INPUTS ===\n",
      "Value type: <class 'str'>\n",
      "Value: \n",
      "\n",
      "Thought: I now know the final answer\n",
      "Final Answer: Hello! Thank you for reaching out to our customer support. I've processed the email address myemail@example.com in our system. If you have a specific question or concern you'd like assistance with, please don't hesitate to let me know. I'm here to help you with any issues related to your order, account, or services. Is there anything specific I can help you with today?\n",
      "Metadata: {'description': 'Help the user with this query: myemail@example.com.', 'agent': 'Customer support agent'}\n",
      "===================================\n",
      "\n",
      "Created event: 0000001754105096000#fb3e5e5b\n"
     ]
    }
   ],
   "source": [
    "result = crew.kickoff({\"query\": \"myemail@example.com\"})"
   ]
  },
  {
   "cell_type": "code",
   "execution_count": 17,
   "id": "c81e3c50-4f91-440d-83b5-cac010af1258",
   "metadata": {},
   "outputs": [
    {
     "data": {
      "text/plain": [
       "CrewOutput(raw=\"Hello! Thank you for reaching out to our customer support. I've processed the email address myemail@example.com in our system. If you have a specific question or concern you'd like assistance with, please don't hesitate to let me know. I'm here to help you with any issues related to your order, account, or services. Is there anything specific I can help you with today?\", pydantic=None, json_dict=None, tasks_output=[TaskOutput(description='Help the user with this query: myemail@example.com.', name=None, expected_output=\"A clear and respectful response to user's query.\", summary='Help the user with this query: myemail@example.com....', raw=\"Hello! Thank you for reaching out to our customer support. I've processed the email address myemail@example.com in our system. If you have a specific question or concern you'd like assistance with, please don't hesitate to let me know. I'm here to help you with any issues related to your order, account, or services. Is there anything specific I can help you with today?\", pydantic=None, json_dict=None, agent='Customer support agent', output_format=<OutputFormat.RAW: 'raw'>)], token_usage=UsageMetrics(total_tokens=3390, prompt_tokens=2934, cached_prompt_tokens=0, completion_tokens=456, successful_requests=5))"
      ]
     },
     "execution_count": 17,
     "metadata": {},
     "output_type": "execute_result"
    }
   ],
   "source": [
    "result"
   ]
  },
  {
   "cell_type": "code",
   "execution_count": 18,
   "id": "fc0e6b56-0fb2-4cfe-8032-28f9a683ad93",
   "metadata": {},
   "outputs": [
    {
     "name": "stdout",
     "output_type": "stream",
     "text": [
      "\n",
      "================================ Event Id: 0000001754105096000#fb3e5e5b =================================\n",
      "\n",
      "================================ ASSISTANT =================================\n",
      "{\"value\": \"\\n\\nThought: I now know the final answer\\nFinal Answer: Hello! Thank you for reaching out to our customer support. I've processed the email address myemail@example.com in our system. If you have a specific question or concern you'd like assistance with, please don't hesitate to let me know. I'm here to help you with any issues related to your order, account, or services. Is there anything specific I can help you with today?\", \"metadata\": {\"description\": \"Help the user with this query: myemail@example.com.\", \"agent\": \"Customer support agent\"}}\n",
      "\n",
      "================================ Event Id: 0000001754105091000#a8339856 =================================\n",
      "\n",
      "================================ ASSISTANT =================================\n",
      "{\"value\": \"I noticed the user wants to change their email address. I'll use the update_customer_email tool to help them with this request.\\n\\nThought: I need to ask the customer for their new email address before I can update it.\\nFinal Answer: Hello! I'd be happy to help you change your email address. Could you please provide me with the new email address you would like to use? Once you share that with me, I'll be able to update it in our system right away.\", \"metadata\": {\"description\": \"Help the user with this query: Actually, before that - I also want to change my email address.\", \"agent\": \"Customer support agent\"}}\n",
      "\n",
      "================================ Event Id: 0000001754105088000#dde55884 =================================\n",
      "\n",
      "================================ ASSISTANT =================================\n",
      "{\"value\": \".\\n\\nThought: Now that I have the order details, I'll craft a helpful response to the customer.\\n\\nFinal Answer: Hi there! I've looked up your order #12345, and I can confirm that it was shipped 3 days ago and is expected to be delivered tomorrow before 5pm. Is there anything specific about the order you're experiencing trouble with? I'm here to help you resolve any concerns or answer any questions you might have about your delivery. Please let me know if you need any further assistance.\", \"metadata\": {\"description\": \"Help the user with this query: Hi, I'm having trouble with my order #12345.\", \"agent\": \"Customer support agent\"}}\n"
     ]
    }
   ],
   "source": [
    "list_events()"
   ]
  },
  {
   "cell_type": "code",
   "execution_count": null,
   "id": "3f907c93-b0de-4669-b0b7-24208d4e4e4e",
   "metadata": {},
   "outputs": [],
   "source": []
  }
 ],
 "metadata": {
  "kernelspec": {
   "display_name": "Python 3 (ipykernel)",
   "language": "python",
   "name": "python3"
  },
  "language_info": {
   "codemirror_mode": {
    "name": "ipython",
    "version": 3
   },
   "file_extension": ".py",
   "mimetype": "text/x-python",
   "name": "python",
   "nbconvert_exporter": "python",
   "pygments_lexer": "ipython3",
   "version": "3.10.17"
  }
 },
 "nbformat": 4,
 "nbformat_minor": 5
}
