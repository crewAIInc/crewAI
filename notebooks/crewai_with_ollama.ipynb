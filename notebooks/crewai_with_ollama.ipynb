{
 "cells": [
  {
   "cell_type": "code",
   "execution_count": 6,
   "id": "c64c87b0-3468-444e-b7ca-86d583e62238",
   "metadata": {},
   "outputs": [
    {
     "name": "stdout",
     "output_type": "stream",
     "text": [
      "Requirement already satisfied: crewai in /home/karnagge/micromamba/lib/python3.9/site-packages (0.1.17)\n",
      "Requirement already satisfied: langchain<0.0.355,>=0.0.354 in /home/karnagge/micromamba/lib/python3.9/site-packages (from crewai) (0.0.354)\n",
      "Requirement already satisfied: openai<2.0.0,>=1.5.0 in /home/karnagge/micromamba/lib/python3.9/site-packages (from crewai) (1.6.1)\n",
      "Requirement already satisfied: pydantic<3.0.0,>=2.4.2 in /home/karnagge/micromamba/lib/python3.9/site-packages (from crewai) (2.5.3)\n",
      "Requirement already satisfied: PyYAML>=5.3 in /home/karnagge/micromamba/lib/python3.9/site-packages (from langchain<0.0.355,>=0.0.354->crewai) (6.0.1)\n",
      "Requirement already satisfied: SQLAlchemy<3,>=1.4 in /home/karnagge/micromamba/lib/python3.9/site-packages (from langchain<0.0.355,>=0.0.354->crewai) (2.0.25)\n",
      "Requirement already satisfied: aiohttp<4.0.0,>=3.8.3 in /home/karnagge/micromamba/lib/python3.9/site-packages (from langchain<0.0.355,>=0.0.354->crewai) (3.9.1)\n",
      "Requirement already satisfied: async-timeout<5.0.0,>=4.0.0 in /home/karnagge/micromamba/lib/python3.9/site-packages (from langchain<0.0.355,>=0.0.354->crewai) (4.0.3)\n",
      "Requirement already satisfied: dataclasses-json<0.7,>=0.5.7 in /home/karnagge/micromamba/lib/python3.9/site-packages (from langchain<0.0.355,>=0.0.354->crewai) (0.6.3)\n",
      "Requirement already satisfied: jsonpatch<2.0,>=1.33 in /home/karnagge/micromamba/lib/python3.9/site-packages (from langchain<0.0.355,>=0.0.354->crewai) (1.33)\n",
      "Requirement already satisfied: langchain-community<0.1,>=0.0.8 in /home/karnagge/micromamba/lib/python3.9/site-packages (from langchain<0.0.355,>=0.0.354->crewai) (0.0.9)\n",
      "Requirement already satisfied: langchain-core<0.2,>=0.1.5 in /home/karnagge/micromamba/lib/python3.9/site-packages (from langchain<0.0.355,>=0.0.354->crewai) (0.1.7)\n",
      "Requirement already satisfied: langsmith<0.1.0,>=0.0.77 in /home/karnagge/micromamba/lib/python3.9/site-packages (from langchain<0.0.355,>=0.0.354->crewai) (0.0.77)\n",
      "Requirement already satisfied: numpy<2,>=1 in /home/karnagge/micromamba/lib/python3.9/site-packages (from langchain<0.0.355,>=0.0.354->crewai) (1.26.2)\n",
      "Requirement already satisfied: requests<3,>=2 in /home/karnagge/micromamba/lib/python3.9/site-packages (from langchain<0.0.355,>=0.0.354->crewai) (2.31.0)\n",
      "Requirement already satisfied: tenacity<9.0.0,>=8.1.0 in /home/karnagge/micromamba/lib/python3.9/site-packages (from langchain<0.0.355,>=0.0.354->crewai) (8.2.3)\n",
      "Requirement already satisfied: anyio<5,>=3.5.0 in /home/karnagge/micromamba/lib/python3.9/site-packages (from openai<2.0.0,>=1.5.0->crewai) (3.7.1)\n",
      "Requirement already satisfied: distro<2,>=1.7.0 in /home/karnagge/micromamba/lib/python3.9/site-packages (from openai<2.0.0,>=1.5.0->crewai) (1.8.0)\n",
      "Requirement already satisfied: httpx<1,>=0.23.0 in /home/karnagge/micromamba/lib/python3.9/site-packages (from openai<2.0.0,>=1.5.0->crewai) (0.26.0)\n",
      "Requirement already satisfied: sniffio in /home/karnagge/micromamba/lib/python3.9/site-packages (from openai<2.0.0,>=1.5.0->crewai) (1.3.0)\n",
      "Requirement already satisfied: tqdm>4 in /home/karnagge/micromamba/lib/python3.9/site-packages (from openai<2.0.0,>=1.5.0->crewai) (4.66.1)\n",
      "Requirement already satisfied: typing-extensions<5,>=4.7 in /home/karnagge/micromamba/lib/python3.9/site-packages (from openai<2.0.0,>=1.5.0->crewai) (4.9.0)\n",
      "Requirement already satisfied: annotated-types>=0.4.0 in /home/karnagge/micromamba/lib/python3.9/site-packages (from pydantic<3.0.0,>=2.4.2->crewai) (0.6.0)\n",
      "Requirement already satisfied: pydantic-core==2.14.6 in /home/karnagge/micromamba/lib/python3.9/site-packages (from pydantic<3.0.0,>=2.4.2->crewai) (2.14.6)\n",
      "Requirement already satisfied: attrs>=17.3.0 in /home/karnagge/micromamba/lib/python3.9/site-packages (from aiohttp<4.0.0,>=3.8.3->langchain<0.0.355,>=0.0.354->crewai) (23.2.0)\n",
      "Requirement already satisfied: multidict<7.0,>=4.5 in /home/karnagge/micromamba/lib/python3.9/site-packages (from aiohttp<4.0.0,>=3.8.3->langchain<0.0.355,>=0.0.354->crewai) (6.0.4)\n",
      "Requirement already satisfied: yarl<2.0,>=1.0 in /home/karnagge/micromamba/lib/python3.9/site-packages (from aiohttp<4.0.0,>=3.8.3->langchain<0.0.355,>=0.0.354->crewai) (1.9.4)\n",
      "Requirement already satisfied: frozenlist>=1.1.1 in /home/karnagge/micromamba/lib/python3.9/site-packages (from aiohttp<4.0.0,>=3.8.3->langchain<0.0.355,>=0.0.354->crewai) (1.4.1)\n",
      "Requirement already satisfied: aiosignal>=1.1.2 in /home/karnagge/micromamba/lib/python3.9/site-packages (from aiohttp<4.0.0,>=3.8.3->langchain<0.0.355,>=0.0.354->crewai) (1.3.1)\n",
      "Requirement already satisfied: idna>=2.8 in /home/karnagge/micromamba/lib/python3.9/site-packages (from anyio<5,>=3.5.0->openai<2.0.0,>=1.5.0->crewai) (3.6)\n",
      "Requirement already satisfied: exceptiongroup in /home/karnagge/micromamba/lib/python3.9/site-packages (from anyio<5,>=3.5.0->openai<2.0.0,>=1.5.0->crewai) (1.2.0)\n",
      "Requirement already satisfied: marshmallow<4.0.0,>=3.18.0 in /home/karnagge/micromamba/lib/python3.9/site-packages (from dataclasses-json<0.7,>=0.5.7->langchain<0.0.355,>=0.0.354->crewai) (3.20.1)\n",
      "Requirement already satisfied: typing-inspect<1,>=0.4.0 in /home/karnagge/micromamba/lib/python3.9/site-packages (from dataclasses-json<0.7,>=0.5.7->langchain<0.0.355,>=0.0.354->crewai) (0.9.0)\n",
      "Requirement already satisfied: certifi in /home/karnagge/micromamba/lib/python3.9/site-packages (from httpx<1,>=0.23.0->openai<2.0.0,>=1.5.0->crewai) (2023.11.17)\n",
      "Requirement already satisfied: httpcore==1.* in /home/karnagge/micromamba/lib/python3.9/site-packages (from httpx<1,>=0.23.0->openai<2.0.0,>=1.5.0->crewai) (1.0.2)\n",
      "Requirement already satisfied: h11<0.15,>=0.13 in /home/karnagge/micromamba/lib/python3.9/site-packages (from httpcore==1.*->httpx<1,>=0.23.0->openai<2.0.0,>=1.5.0->crewai) (0.14.0)\n",
      "Requirement already satisfied: jsonpointer>=1.9 in /home/karnagge/micromamba/lib/python3.9/site-packages (from jsonpatch<2.0,>=1.33->langchain<0.0.355,>=0.0.354->crewai) (2.4)\n",
      "Requirement already satisfied: packaging<24.0,>=23.2 in /home/karnagge/micromamba/lib/python3.9/site-packages (from langchain-core<0.2,>=0.1.5->langchain<0.0.355,>=0.0.354->crewai) (23.2)\n",
      "Requirement already satisfied: charset-normalizer<4,>=2 in /home/karnagge/micromamba/lib/python3.9/site-packages (from requests<3,>=2->langchain<0.0.355,>=0.0.354->crewai) (3.3.2)\n",
      "Requirement already satisfied: urllib3<3,>=1.21.1 in /home/karnagge/micromamba/lib/python3.9/site-packages (from requests<3,>=2->langchain<0.0.355,>=0.0.354->crewai) (1.26.18)\n",
      "Requirement already satisfied: greenlet!=0.4.17 in /home/karnagge/micromamba/lib/python3.9/site-packages (from SQLAlchemy<3,>=1.4->langchain<0.0.355,>=0.0.354->crewai) (3.0.3)\n",
      "Requirement already satisfied: mypy-extensions>=0.3.0 in /home/karnagge/micromamba/lib/python3.9/site-packages (from typing-inspect<1,>=0.4.0->dataclasses-json<0.7,>=0.5.7->langchain<0.0.355,>=0.0.354->crewai) (1.0.0)\n",
      "Note: you may need to restart the kernel to use updated packages.\n",
      "Requirement already satisfied: duckduckgo-search in /home/karnagge/micromamba/lib/python3.9/site-packages (4.1.1)\n",
      "Requirement already satisfied: click>=8.1.7 in /home/karnagge/micromamba/lib/python3.9/site-packages (from duckduckgo-search) (8.1.7)\n",
      "Requirement already satisfied: lxml>=4.9.3 in /home/karnagge/micromamba/lib/python3.9/site-packages (from duckduckgo-search) (5.0.0)\n",
      "Requirement already satisfied: curl-cffi>=0.5.10 in /home/karnagge/micromamba/lib/python3.9/site-packages (from duckduckgo-search) (0.5.10)\n",
      "Requirement already satisfied: cffi>=1.12.0 in /home/karnagge/micromamba/lib/python3.9/site-packages (from curl-cffi>=0.5.10->duckduckgo-search) (1.16.0)\n",
      "Requirement already satisfied: pycparser in /home/karnagge/micromamba/lib/python3.9/site-packages (from cffi>=1.12.0->curl-cffi>=0.5.10->duckduckgo-search) (2.21)\n",
      "Note: you may need to restart the kernel to use updated packages.\n"
     ]
    }
   ],
   "source": [
    "%pip install crewai\n",
    "%pip install duckduckgo-search"
   ]
  },
  {
   "cell_type": "markdown",
   "id": "0aec1109-4f81-49f5-bbdc-3a00f83af2e2",
   "metadata": {},
   "source": [
    "# Local Open Source Models\n",
    "\n",
    "crewAI supports integration with local models, thorugh tools such as Ollama, for enhanced flexibility and customization. This allows you to utilize your own models, which can be particularly useful for specialized tasks or data privacy concerns.\n",
    "\n",
    "## Setting Up Ollama\n",
    "\r",
    "* \n",
    "Install Ollama: Ensure that Ollama is properly installed in your environment. Follow the installation guide provided by Ollama for detailed instructions\n",
    "* \r\n",
    "Configure Ollama: Set up Ollama to work with your local model. You will probably need to tweak the model using a Modelfile. I'd recommend adding Observation as a stop word and playing with top_p ant temperature."
   ]
  },
  {
   "cell_type": "markdown",
   "id": "86d7f5ba-8a07-4248-b618-e23e1f249273",
   "metadata": {},
   "source": [
    "# Integrating Ollama with CrewAI\n",
    "\r",
    "* \n",
    "Instantiate Ollama Model: Create an instance of the Ollama model. You can specify the model and the base URL during instantiation. For example:"
   ]
  },
  {
   "cell_type": "code",
   "execution_count": 3,
   "id": "642470df-ecb7-4d6a-ac38-0564731ce008",
   "metadata": {},
   "outputs": [],
   "source": [
    "from langchain.llms import Ollama\n",
    "# Pass Ollama Model to Agents: When creating your agents within the CrewAI framework, you can pass the Ollama model as an argument to the Agent constructor. For instance:"
   ]
  },
  {
   "cell_type": "code",
   "execution_count": 4,
   "id": "2cb61b5b-db59-4697-a79a-b631c206e4fd",
   "metadata": {},
   "outputs": [],
   "source": [
    "import os\n",
    "from crewai import Agent, Task, Crew, Process"
   ]
  },
  {
   "cell_type": "code",
   "execution_count": 5,
   "id": "86a69adb-aef5-4431-9fa3-1b8e64528caa",
   "metadata": {},
   "outputs": [],
   "source": [
    "# You can choose to use a local model through Ollama for example.\n",
    "# In this case we will use OpenHermes 2.5 as an example.\n",
    "#\n",
    "from langchain.llms import Ollama\n",
    "ollama_llm = Ollama(model=\"openhermes\")\n",
    "\n",
    "# If you are using an ollama like above you don't need to set OPENAI_API_KEY.\n",
    "#os.environ[\"OPENAI_API_KEY\"] = \"Your Key\"\n",
    "\n",
    "# Define your tools, custom or not.\n",
    "# Install duckduckgo-search for this example:\n",
    "#\n",
    "# !pip install -U duckduckgo-search\n",
    "\n",
    "from langchain.tools import DuckDuckGoSearchRun\n",
    "search_tool = DuckDuckGoSearchRun()"
   ]
  },
  {
   "cell_type": "code",
   "execution_count": null,
   "id": "de7b43f5-85a7-409c-86d8-6f82e6ceeeed",
   "metadata": {},
   "outputs": [
    {
     "name": "stdout",
     "output_type": "stream",
     "text": [
      "Working Agent: Senior Research Analyst\n",
      "Starting Task: Conduct a comprehensive analysis of the latest advancements in AI in 2024.\n",
      "  Identify key trends, breakthrough technologies, and potential industry impacts.\n",
      "  Compile your findings in a detailed report. Your final answer MUST be a full analysis report ...\n",
      "\n",
      "\n",
      "\u001b[1m> Entering new CrewAgentExecutor chain...\u001b[0m\n",
      "\u001b[32;1m\u001b[1;3mThought: Do I need to use a tool? Yes\n",
      "Action: duckduckgo_search\n",
      "Action Input: \"Latest advancements in AI 2024\"\u001b[0m\u001b[36;1m\u001b[1;3mpublished 27 December 2023 While 2023 was the year of AI, 2024 will be the year we use it. Comments (0) (Image credit: Aston Martin/Apple) We have just come to the end of a year where... In 2024, multimodal AI is expected to evolve significantly, ushering in a shift in generative AI capabilities. These models are progressing beyond traditional single-mode functions,... This year's trends reflect a deepening sophistication and caution in AI development and deployment strategies, with an eye to ethics, safety and the evolving regulatory landscape. Here are the top 10 AI and machine learning trends to prepare for in 2024. 1. Multimodal AI. Multimodal AI goes beyond traditional single-mode data processing to ... Law, Regulation, and Policy, Machine Learning What to Expect in AI in 2024 Seven Stanford HAI faculty and fellows predict the biggest stories for next year in artificial intelligence. Dec 8, 2023 | Shana Lynch This past year marked major advances in generative AI as terms like ChatGPT and Bard become household names. Nov 1, 2023,03:43am EDT Share to Facebook Share to Twitter Share to Linkedin The Top 5 Artificial Intelligence (AI) Trends For 2024 Adobe Stock It's been a year since OpenAI released ChatGPT,...\u001b[0m"
     ]
    }
   ],
   "source": [
    "# Define your agents with roles and goals\n",
    "researcher = Agent(\n",
    "  role='Senior Research Analyst',\n",
    "  goal='Uncover cutting-edge developments in AI and data science in',\n",
    "  backstory=\"\"\"You are a Senior Research Analyst at a leading tech think tank.\n",
    "  Your expertise lies in identifying emerging trends and technologies in AI and\n",
    "  data science. You have a knack for dissecting complex data and presenting\n",
    "  actionable insights.\"\"\",\n",
    "  verbose=True,\n",
    "  allow_delegation=False,\n",
    "  tools=[search_tool],\n",
    "  llm=ollama_llm\n",
    "\n",
    ")\n",
    "writer = Agent(\n",
    "  role='Tech Content Strategist',\n",
    "  goal='Craft compelling content on tech advancements',\n",
    "  backstory=\"\"\"You are a renowned Tech Content Strategist, known for your insightful\n",
    "  and engaging articles on technology and innovation. With a deep understanding of\n",
    "  the tech industry, you transform complex concepts into compelling narratives.\"\"\",\n",
    "  verbose=True,\n",
    "  llm=ollama_llm,\n",
    "  allow_delegation=True\n",
    ")\n",
    "\n",
    "# Create tasks for your agents\n",
    "task1 = Task(\n",
    "  description=\"\"\"Conduct a comprehensive analysis of the latest advancements in AI in 2024.\n",
    "  Identify key trends, breakthrough technologies, and potential industry impacts.\n",
    "  Compile your findings in a detailed report. Your final answer MUST be a full analysis report\"\"\",\n",
    "  agent=researcher\n",
    ")\n",
    "\n",
    "task2 = Task(\n",
    "  description=\"\"\"Using the insights from the researcher's report, develop an engaging blog\n",
    "  post that highlights the most significant AI advancements.\n",
    "  Your post should be informative yet accessible, catering to a tech-savvy audience.\n",
    "  Aim for a narrative that captures the essence of these breakthroughs and their\n",
    "  implications for the future. Your final answer MUST be the full blog post of at least 3 paragraphs.\"\"\",\n",
    "  agent=writer\n",
    ")\n",
    "\n",
    "# Instantiate your crew with a sequential process\n",
    "crew = Crew(\n",
    "  agents=[researcher, writer],\n",
    "  tasks=[task1, task2],\n",
    "  verbose=2, # Crew verbose more will let you know what tasks are being worked on, you can set it to 1 or 2 to different logging levels\n",
    "  process=Process.sequential # Sequential process will have tasks executed one after the other and the outcome of the previous one is passed as extra content into this next.\n",
    ")"
   ]
  },
  {
   "cell_type": "code",
   "execution_count": null,
   "id": "c09d4004-ccc1-4f81-9007-9f50a6626362",
   "metadata": {},
   "outputs": [],
   "source": [
    "# Get your crew to work!\n",
    "result = crew.kickoff()\n",
    "\n",
    "print(\"######################\")\n",
    "print(result)"
   ]
  }
 ],
 "metadata": {
  "kernelspec": {
   "display_name": "Python 3 (ipykernel)",
   "language": "python",
   "name": "python3"
  },
  "language_info": {
   "codemirror_mode": {
    "name": "ipython",
    "version": 3
   },
   "file_extension": ".py",
   "mimetype": "text/x-python",
   "name": "python",
   "nbconvert_exporter": "python",
   "pygments_lexer": "ipython3",
   "version": "3.9.18"
  }
 },
 "nbformat": 4,
 "nbformat_minor": 5
}
